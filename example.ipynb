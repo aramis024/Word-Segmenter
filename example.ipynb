{
 "cells": [
  {
   "cell_type": "markdown",
   "metadata": {},
   "source": [
    "# Before to start read carefully the instructions provided in the README file to get the data and organize it."
   ]
  },
  {
   "cell_type": "code",
   "execution_count": 1,
   "metadata": {},
   "outputs": [
    {
     "name": "stdout",
     "output_type": "stream",
     "text": [
      "Skipping empty file: s12_9953.word\n",
      "Skipping empty file: s02_6218.word\n",
      "Skipping empty file: s36_91.word\n",
      "Skipping empty file: s25_41.word\n",
      "\n",
      "\n",
      "Buckeye Train samples: 8201 8201 8201\n",
      "Buckey Val samples: 1016 1016 1016\n",
      "Buckeye Test samples: 1048 1048 1048\n",
      "Timit Test samples: 1680 1680 1680\n"
     ]
    }
   ],
   "source": [
    "from src.utils import check_folders, get_buckeye_data, get_timit_data, get_labels, pad_set\n",
    "\n",
    "buckeye_corpus_path = \"../Word-Segmenter/data/Buckeye\"\n",
    "train_indices = \"../Word-Segmenter/data/buckeye_train_data.txt\"\n",
    "val_indices = \"../Word-Segmenter/data/buckeye_val_data.txt\"\n",
    "test_indices = \"../Word-Segmenter/data/buckeye_test_data.txt\"\n",
    "\n",
    "timit_testset_path = \"../Word-Segmenter/data/TIMIT/data/TEST\"\n",
    "timit_indices= \"../Word-Segmenter/data/timit_test_data.txt\"\n",
    "\n",
    "#check if path exists\n",
    "check_folders(buckeye_corpus_path, timit_testset_path)\n",
    "\n",
    "SR=16000\n",
    "FRAME_SIZE=int(0.025*SR)\n",
    "HOP_LENGTH=int(0.025*SR)\n",
    "\n",
    "buckeye_train_wavs, buckeye_train_bounds= get_buckeye_data(buckeye_corpus_path, train_indices, SR)\n",
    "buckeye_val_wavs, buckeye_val_bounds= get_buckeye_data(buckeye_corpus_path, val_indices, SR)\n",
    "buckeye_test_wavs, buckeye_test_bounds= get_buckeye_data(buckeye_corpus_path, test_indices, SR)\n",
    "\n",
    "timit_wavs, timit_bounds= get_timit_data(timit_testset_path, timit_indices, SR)\n",
    "\n",
    "\n",
    "buckeye_train_labels= get_labels(buckeye_train_wavs, \n",
    "                         buckeye_train_bounds, \n",
    "                         SR, \n",
    "                         FRAME_SIZE, \n",
    "                         HOP_LENGTH)\n",
    "\n",
    "buckeye_val_labels= get_labels(buckeye_val_wavs, \n",
    "                       buckeye_val_bounds, \n",
    "                       SR, \n",
    "                       FRAME_SIZE, \n",
    "                       HOP_LENGTH,\n",
    "                       type='test')\n",
    "\n",
    "buckeye_test_labels= get_labels(buckeye_test_wavs, \n",
    "                        buckeye_test_bounds, \n",
    "                        SR, \n",
    "                        FRAME_SIZE, \n",
    "                        HOP_LENGTH, \n",
    "                        type='test')\n",
    "\n",
    "timit_labels= get_labels(timit_wavs,\n",
    "                         timit_bounds,\n",
    "                         SR,\n",
    "                         FRAME_SIZE,\n",
    "                         HOP_LENGTH,\n",
    "                         type='test')\n",
    "print('\\n')\n",
    "print('Buckeye Train samples:', len(buckeye_train_wavs), len(buckeye_train_labels), len(buckeye_train_bounds))\n",
    "print('Buckey Val samples:', len(buckeye_val_wavs), len(buckeye_val_labels), len(buckeye_val_bounds))\n",
    "print('Buckeye Test samples:', len(buckeye_test_wavs), len(buckeye_test_labels), len(buckeye_test_bounds))\n",
    "print('Timit Test samples:', len(timit_wavs), len(timit_labels), len(timit_bounds))\n",
    "\n",
    "datasets= (buckeye_train_wavs, \n",
    "           buckeye_train_labels, \n",
    "           buckeye_train_bounds, \n",
    "           buckeye_val_wavs, \n",
    "           buckeye_val_labels, \n",
    "           buckeye_val_bounds, \n",
    "           buckeye_test_wavs, \n",
    "           buckeye_test_labels, \n",
    "           buckeye_test_bounds)\n",
    "\n",
    "buckeye_wavs, buckeye_labels, buckeye_bounds= pad_set(datasets, buckeye_test_wavs, buckeye_test_labels, buckeye_test_bounds)\n",
    "timit_wavs, timit_labels, timit_bounds= pad_set(datasets, timit_wavs, timit_labels, timit_bounds)\n",
    "\n",
    "test_sets= {'buckeye': (buckeye_wavs, buckeye_labels, buckeye_bounds), 'timit': (timit_wavs, timit_labels, timit_bounds)}\n"
   ]
  },
  {
   "cell_type": "markdown",
   "metadata": {},
   "source": [
    "# Follow the instructions displayed under the cell."
   ]
  },
  {
   "cell_type": "code",
   "execution_count": 2,
   "metadata": {},
   "outputs": [
    {
     "name": "stdout",
     "output_type": "stream",
     "text": [
      "Choose a model to test:\n",
      "1 HuBERT\n",
      "2 Wav2Vec 2.0\n",
      "3 CNN\n",
      "4 CRNN\n",
      "\n",
      "Choose a dataset to test:\n",
      "1 Buckeye\n",
      "2 Timit\n",
      "\n",
      "You chose model HuBERT and dataset Buckeye\n",
      "\n",
      "Wavs shape: (1048, 144581) Labels shape: (1048, 361) Bounds shape:  (1048, 22, 2) \n",
      "\n",
      "Time points: 144581\n",
      "Frames out: 361\n"
     ]
    }
   ],
   "source": [
    "from src.utils import choose_dataset, retrieve_model, select_model_and_dataset\n",
    "from src.dataset import get_loader\n",
    "import torch\n",
    "\n",
    "model_name, dataset= select_model_and_dataset()\n",
    "\n",
    "SR=16000\n",
    "HOP_LENGTH=int(0.025*SR)\n",
    "NUM_CLASSES=3\n",
    "BATCH_SIZE= 32\n",
    "N_DEV=0\n",
    "time=0\n",
    "frames_out=0\n",
    "verbose=False\n",
    "freeze=True\n",
    "device = torch.device(f'cuda:{N_DEV}' if torch.cuda.is_available() else 'cpu')\n",
    "\n",
    "wavs, labels, bounds, tolerance= choose_dataset(dataset, test_sets, SR)\n",
    "\n",
    "print('Wavs shape:', wavs.shape, \"Labels shape:\", labels.shape, \"Bounds shape: \", bounds.shape, \"\\n\")\n",
    "\n",
    "# Get the loader\n",
    "loader= get_loader(wavs, \n",
    "                   labels, \n",
    "                   bounds, \n",
    "                   BATCH_SIZE,\n",
    "                   type='test')\n",
    "\n",
    "# Retrieve the time axis value of the input and the number of frames in the model's output.\n",
    "a, l, b = next(iter(loader))\n",
    "time = a.shape[1]\n",
    "frames_out = l.shape[1]\n",
    "\n",
    "print(f'Time points: {time}')\n",
    "print(f'Frames out: {frames_out}')\n",
    "\n",
    "# Get the model\n",
    "model= retrieve_model(model_name, \n",
    "                      time, \n",
    "                      frames_out, \n",
    "                      NUM_CLASSES, \n",
    "                      verbose, \n",
    "                      freeze)"
   ]
  },
  {
   "cell_type": "code",
   "execution_count": 3,
   "metadata": {},
   "outputs": [
    {
     "name": "stderr",
     "output_type": "stream",
     "text": [
      "Test:   0%|          | 0/33 [00:00<?, ?it/s]"
     ]
    },
    {
     "name": "stderr",
     "output_type": "stream",
     "text": [
      "Test: 100%|██████████| 33/33 [00:16<00:00,  2.04it/s]"
     ]
    },
    {
     "name": "stdout",
     "output_type": "stream",
     "text": [
      "Test Precision: 0.8999648609445512, Test Recall: 0.7928456512937014, Test F value: 0.8427989977407062, Test OS: -0.11871499315020075, Test R value: 0.8489727692261502\n",
      "\n"
     ]
    },
    {
     "name": "stderr",
     "output_type": "stream",
     "text": [
      "\n"
     ]
    }
   ],
   "source": [
    "from src.utils import predict\n",
    "\n",
    "bounds = predict( model, \n",
    "                loader, \n",
    "                device, \n",
    "                tolerance = tolerance, \n",
    "                hop_length = HOP_LENGTH, \n",
    "                frame_selection = \"mid\",\n",
    "                desc= 'Test',\n",
    "                plot_bounds=False,\n",
    "                batch_plot_id=1)"
   ]
  }
 ],
 "metadata": {
  "kernelspec": {
   "display_name": "hf",
   "language": "python",
   "name": "python3"
  },
  "language_info": {
   "codemirror_mode": {
    "name": "ipython",
    "version": 3
   },
   "file_extension": ".py",
   "mimetype": "text/x-python",
   "name": "python",
   "nbconvert_exporter": "python",
   "pygments_lexer": "ipython3",
   "version": "3.9.18"
  }
 },
 "nbformat": 4,
 "nbformat_minor": 2
}
