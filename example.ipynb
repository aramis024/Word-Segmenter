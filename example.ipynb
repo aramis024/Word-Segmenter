{
 "cells": [
  {
   "cell_type": "markdown",
   "metadata": {},
   "source": [
    "# Before to start read carefully the instructions provided in the README file to obtain the data and organize it."
   ]
  },
  {
   "cell_type": "code",
   "execution_count": null,
   "metadata": {},
   "outputs": [],
   "source": [
    "from src.utils import get_data, choose_dataset, retrieve_model, select_model_and_dataset, predict, continue_testing\n",
    "from src.dataset import get_loader\n",
    "import torch\n",
    "\n",
    "\n",
    "buckeye_corpus_path = \"../Word-Segmenter/data/Buckeye\"\n",
    "train_indices = \"../Word-Segmenter/data/buckeye_train_data.txt\"\n",
    "val_indices = \"../Word-Segmenter/data/buckeye_val_data.txt\"\n",
    "test_indices = \"../Word-Segmenter/data/buckeye_test_data.txt\"\n",
    "\n",
    "timit_testset_path = \"../Word-Segmenter/data/TIMIT/data/TEST\"\n",
    "timit_indices= \"../Word-Segmenter/data/timit_test_data.txt\"\n",
    "\n",
    "ntimit_testset_path = \"../Word-Segmenter/data/NTIMIT\"\n",
    "ntimit_indices= \"../Word-Segmenter/data/ntimit_test_data.txt\"\n",
    "\n",
    "test_sets, ntimit_exists= get_data(buckeye_corpus_path, \n",
    "                                   train_indices, \n",
    "                                   val_indices, \n",
    "                                   test_indices, \n",
    "                                   timit_testset_path, \n",
    "                                   timit_indices, \n",
    "                                   ntimit_testset_path, \n",
    "                                   ntimit_indices)"
   ]
  },
  {
   "cell_type": "markdown",
   "metadata": {},
   "source": [
    "# Follow the instructions displayed under the cell."
   ]
  },
  {
   "cell_type": "code",
   "execution_count": null,
   "metadata": {},
   "outputs": [],
   "source": [
    "continue_to_test='y'\n",
    "\n",
    "while continue_to_test=='y':\n",
    "\n",
    "    model_name, dataset= select_model_and_dataset(ntimit_exists)\n",
    "\n",
    "    SR=16000\n",
    "    HOP_LENGTH=int(0.025*SR)\n",
    "    NUM_CLASSES=3\n",
    "    BATCH_SIZE= 32\n",
    "    N_DEV=0\n",
    "    time=0\n",
    "    frames_out=0\n",
    "    verbose=False\n",
    "    freeze=True\n",
    "    device = torch.device(f'cuda:{N_DEV}' if torch.cuda.is_available() else 'cpu')\n",
    "\n",
    "    wavs, labels, bounds, tolerance= choose_dataset(dataset, test_sets, SR)\n",
    "\n",
    "    print('Wavs shape:', wavs.shape, \"Labels shape:\", labels.shape, \"Bounds shape: \", bounds.shape, \"\\n\")\n",
    "\n",
    "    # Get the loader\n",
    "    loader= get_loader(wavs, \n",
    "                       labels, \n",
    "                       bounds, \n",
    "                       BATCH_SIZE,\n",
    "                       type='test')\n",
    "\n",
    "    # Retrieve the time axis value of the input and the number of frames in the model's output.\n",
    "    a, l, b = next(iter(loader))\n",
    "    time = a.shape[1]\n",
    "    frames_out = l.shape[1]\n",
    "\n",
    "    print(f'Time points: {time}')\n",
    "    print(f'Frames out: {frames_out}\\n')\n",
    "\n",
    "    # Get the model\n",
    "    model= retrieve_model(model_name, \n",
    "                          time, \n",
    "                          frames_out, \n",
    "                          NUM_CLASSES, \n",
    "                          verbose, \n",
    "                          freeze)\n",
    "\n",
    "    bounds = predict( model, \n",
    "                    loader, \n",
    "                    device, \n",
    "                    tolerance = tolerance, \n",
    "                    hop_length = HOP_LENGTH, \n",
    "                    frame_selection = \"mid\",\n",
    "                    desc= 'Test',\n",
    "                    plot_bounds=False,\n",
    "                    batch_plot_id=1)\n",
    "    \n",
    "    continue_to_test= continue_testing()"
   ]
  }
 ],
 "metadata": {
  "kernelspec": {
   "display_name": "hf",
   "language": "python",
   "name": "python3"
  },
  "language_info": {
   "codemirror_mode": {
    "name": "ipython",
    "version": 3
   },
   "file_extension": ".py",
   "mimetype": "text/x-python",
   "name": "python",
   "nbconvert_exporter": "python",
   "pygments_lexer": "ipython3",
   "version": "3.9.18"
  }
 },
 "nbformat": 4,
 "nbformat_minor": 2
}
